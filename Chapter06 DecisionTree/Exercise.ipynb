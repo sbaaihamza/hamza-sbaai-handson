{
 "cells": [
  {
   "cell_type": "markdown",
   "metadata": {},
   "source": [
    "# 7"
   ]
  },
  {
   "cell_type": "code",
   "execution_count": 1,
   "metadata": {
    "collapsed": true
   },
   "outputs": [],
   "source": [
    "from sklearn.datasets import make_moons\n",
    "dataset = make_moons(n_samples=10000, noise=0.4)"
   ]
  },
  {
   "cell_type": "code",
   "execution_count": 2,
   "metadata": {
    "collapsed": false
   },
   "outputs": [],
   "source": [
    "X = dataset[0]\n",
    "y = dataset[1]"
   ]
  },
  {
   "cell_type": "code",
   "execution_count": 3,
   "metadata": {
    "collapsed": true
   },
   "outputs": [],
   "source": [
    "from sklearn.model_selection import train_test_split\n",
    "X_train, X_test, y_train, y_test = train_test_split(X, y, random_state=42, test_size=0.2)"
   ]
  },
  {
   "cell_type": "code",
   "execution_count": 4,
   "metadata": {
    "collapsed": true
   },
   "outputs": [],
   "source": [
    "from sklearn.model_selection import GridSearchCV\n",
    "from sklearn.tree import DecisionTreeClassifier\n",
    "params = [\n",
    "    {'max_leaf_nodes': [5, 7, 10, 13, 15]}\n",
    "]\n",
    "grid_search = GridSearchCV(DecisionTreeClassifier(), params, verbose=2, n_jobs=-1, cv=3)"
   ]
  },
  {
   "cell_type": "code",
   "execution_count": 5,
   "metadata": {
    "collapsed": false
   },
   "outputs": [
    {
     "name": "stdout",
     "output_type": "stream",
     "text": [
      "Fitting 3 folds for each of 5 candidates, totalling 15 fits\n",
      "[CV] max_leaf_nodes=5 ................................................\n",
      "[CV] max_leaf_nodes=5 ................................................\n",
      "[CV] max_leaf_nodes=7 ................................................\n",
      "[CV] max_leaf_nodes=5 ................................................\n",
      "[CV] ................................. max_leaf_nodes=5, total=   0.0s\n",
      "[CV] max_leaf_nodes=7 ................................................\n",
      "[CV] ................................. max_leaf_nodes=7, total=   0.0s\n",
      "[CV] ................................. max_leaf_nodes=5, total=   0.0s\n",
      "[CV] max_leaf_nodes=7 ................................................\n",
      "[CV] ................................. max_leaf_nodes=5, total=   0.0s\n",
      "[CV] ................................. max_leaf_nodes=7, total=   0.0s\n",
      "[CV] max_leaf_nodes=10 ...............................................\n",
      "[CV] max_leaf_nodes=10 ...............................................\n",
      "[CV] max_leaf_nodes=10 ...............................................\n",
      "[CV] ................................ max_leaf_nodes=10, total=   0.0s\n",
      "[CV] ................................. max_leaf_nodes=7, total=   0.0s\n",
      "[CV] ................................ max_leaf_nodes=10, total=   0.0s\n",
      "[CV] max_leaf_nodes=15 ...............................................\n",
      "[CV] ................................ max_leaf_nodes=10, total=   0.0s\n",
      "[CV] max_leaf_nodes=13 ...............................................\n",
      "[CV] ................................ max_leaf_nodes=15, total=   0.0s\n",
      "[CV] ................................ max_leaf_nodes=13, total=   0.0s\n",
      "[CV] max_leaf_nodes=13 ...............................................\n",
      "[CV] ................................ max_leaf_nodes=13, total=   0.0s\n",
      "[CV] max_leaf_nodes=13 ...............................................\n",
      "[CV] ................................ max_leaf_nodes=13, total=   0.0s\n",
      "[CV] max_leaf_nodes=15 ...............................................\n",
      "[CV] ................................ max_leaf_nodes=15, total=   0.0s\n",
      "[CV] max_leaf_nodes=15 ...............................................\n",
      "[CV] ................................ max_leaf_nodes=15, total=   0.0s\n"
     ]
    },
    {
     "name": "stderr",
     "output_type": "stream",
     "text": [
      "[Parallel(n_jobs=-1)]: Done   8 out of  15 | elapsed:    0.1s remaining:    0.1s\n",
      "[Parallel(n_jobs=-1)]: Done  15 out of  15 | elapsed:    0.2s finished\n"
     ]
    },
    {
     "data": {
      "text/plain": [
       "GridSearchCV(cv=3, error_score='raise',\n",
       "       estimator=DecisionTreeClassifier(class_weight=None, criterion='gini', max_depth=None,\n",
       "            max_features=None, max_leaf_nodes=None,\n",
       "            min_impurity_split=1e-07, min_samples_leaf=1,\n",
       "            min_samples_split=2, min_weight_fraction_leaf=0.0,\n",
       "            presort=False, random_state=None, splitter='best'),\n",
       "       fit_params={}, iid=True, n_jobs=-1,\n",
       "       param_grid=[{'max_leaf_nodes': [5, 7, 10, 13, 15]}],\n",
       "       pre_dispatch='2*n_jobs', refit=True, return_train_score=True,\n",
       "       scoring=None, verbose=2)"
      ]
     },
     "execution_count": 5,
     "metadata": {},
     "output_type": "execute_result"
    }
   ],
   "source": [
    "grid_search.fit(X_train, y_train)"
   ]
  },
  {
   "cell_type": "code",
   "execution_count": 6,
   "metadata": {
    "collapsed": false
   },
   "outputs": [
    {
     "data": {
      "text/plain": [
       "DecisionTreeClassifier(class_weight=None, criterion='gini', max_depth=None,\n",
       "            max_features=None, max_leaf_nodes=5, min_impurity_split=1e-07,\n",
       "            min_samples_leaf=1, min_samples_split=2,\n",
       "            min_weight_fraction_leaf=0.0, presort=False, random_state=None,\n",
       "            splitter='best')"
      ]
     },
     "execution_count": 6,
     "metadata": {},
     "output_type": "execute_result"
    }
   ],
   "source": [
    "grid_search.best_estimator_"
   ]
  },
  {
   "cell_type": "code",
   "execution_count": 7,
   "metadata": {
    "collapsed": true
   },
   "outputs": [],
   "source": [
    "from sklearn.metrics import accuracy_score\n",
    "y_pred = grid_search.best_estimator_.predict(X_test)"
   ]
  },
  {
   "cell_type": "code",
   "execution_count": 8,
   "metadata": {
    "collapsed": false
   },
   "outputs": [
    {
     "data": {
      "text/plain": [
       "0.85050000000000003"
      ]
     },
     "execution_count": 8,
     "metadata": {},
     "output_type": "execute_result"
    }
   ],
   "source": [
    "accuracy_score(y_test, y_pred)"
   ]
  },
  {
   "cell_type": "markdown",
   "metadata": {},
   "source": [
    "# 8 "
   ]
  },
  {
   "cell_type": "code",
   "execution_count": 9,
   "metadata": {
    "collapsed": true
   },
   "outputs": [],
   "source": [
    "datasets = make_moons(n_samples=10000, noise=0.2)"
   ]
  },
  {
   "cell_type": "code",
   "execution_count": 10,
   "metadata": {
    "collapsed": true
   },
   "outputs": [],
   "source": [
    "X = datasets[0]\n",
    "y = datasets[1]"
   ]
  },
  {
   "cell_type": "code",
   "execution_count": 11,
   "metadata": {
    "collapsed": true
   },
   "outputs": [],
   "source": [
    "X_train, X_test, y_train, y_test = train_test_split(X, y, random_state=42, test_size=0.2)"
   ]
  },
  {
   "cell_type": "code",
   "execution_count": 12,
   "metadata": {
    "collapsed": true
   },
   "outputs": [],
   "source": [
    "import numpy as np\n",
    "np.random.seed(42)\n",
    "m,_ = X_train.shape"
   ]
  },
  {
   "cell_type": "code",
   "execution_count": 13,
   "metadata": {
    "collapsed": false
   },
   "outputs": [],
   "source": [
    "n_subsets = 1000\n",
    "n_instance = 100\n",
    "tree_clfs = []\n",
    "for _ in range(n_subsets):\n",
    "    shuffle_inx = np.random.randint(m, size=n_instance)\n",
    "    X_train_i = X_train[shuffle_inx]\n",
    "    y_train_i = y_train[shuffle_inx]\n",
    "    tree_clf = DecisionTreeClassifier(max_leaf_nodes=10)\n",
    "    tree_clf.fit(X_train_i, y_train_i)\n",
    "    tree_clfs.append(tree_clf)"
   ]
  },
  {
   "cell_type": "code",
   "execution_count": 14,
   "metadata": {
    "collapsed": true
   },
   "outputs": [],
   "source": [
    "accuaries = []\n",
    "for tree_cls in tree_clfs:\n",
    "    y_pred = tree_clf.predict(X_test)\n",
    "    accuaries.append(accuracy_score(y_pred, y_test))"
   ]
  },
  {
   "cell_type": "code",
   "execution_count": 20,
   "metadata": {
    "collapsed": false
   },
   "outputs": [
    {
     "data": {
      "text/plain": [
       "0.90799999999999992"
      ]
     },
     "execution_count": 20,
     "metadata": {},
     "output_type": "execute_result"
    }
   ],
   "source": [
    "np.mean(accuaries)"
   ]
  },
  {
   "cell_type": "code",
   "execution_count": 21,
   "metadata": {
    "collapsed": false
   },
   "outputs": [
    {
     "name": "stdout",
     "output_type": "stream",
     "text": [
      "0.0\n",
      "0.05\n",
      "0.1\n",
      "0.15\n",
      "0.2\n",
      "0.25\n",
      "0.3\n",
      "0.35\n",
      "0.4\n",
      "0.45\n",
      "0.5\n",
      "0.55\n",
      "0.6\n",
      "0.65\n",
      "0.7\n",
      "0.75\n",
      "0.8\n",
      "0.85\n",
      "0.9\n",
      "0.95\n"
     ]
    }
   ],
   "source": [
    "from collections import Counter\n",
    "m_test, n_features = X_test.shape\n",
    "y_pred = []\n",
    "for i in range(m_test):\n",
    "    if i % 100 == 0:\n",
    "        print(i/m_test)\n",
    "    instance = X_test[i:i+1,:]\n",
    "    counter = Counter([clf.predict(instance)[0] for clf in tree_clfs])\n",
    "    y_pred.append(counter.most_common(1)[0][0])"
   ]
  },
  {
   "cell_type": "code",
   "execution_count": 24,
   "metadata": {
    "collapsed": false
   },
   "outputs": [
    {
     "data": {
      "text/plain": [
       "0.96150000000000002"
      ]
     },
     "execution_count": 24,
     "metadata": {},
     "output_type": "execute_result"
    }
   ],
   "source": [
    "accuracy_score(y_pred, y_test)"
   ]
  }
 ],
 "metadata": {
  "kernelspec": {
   "display_name": "Python 3",
   "language": "python",
   "name": "python3"
  },
  "language_info": {
   "codemirror_mode": {
    "name": "ipython",
    "version": 3
   },
   "file_extension": ".py",
   "mimetype": "text/x-python",
   "name": "python",
   "nbconvert_exporter": "python",
   "pygments_lexer": "ipython3",
   "version": "3.6.0"
  }
 },
 "nbformat": 4,
 "nbformat_minor": 2
}
