{
 "cells": [
  {
   "cell_type": "markdown",
   "metadata": {},
   "source": [
    "# 1 "
   ]
  },
  {
   "cell_type": "code",
   "execution_count": null,
   "metadata": {
    "collapsed": true
   },
   "outputs": [],
   "source": [
    "import numpy as np\n",
    "import matplotlib.pyplot as plt\n",
    "import pandas as pd\n",
    "%matplotlib inline"
   ]
  },
  {
   "cell_type": "code",
   "execution_count": null,
   "metadata": {},
   "outputs": [],
   "source": [
    "from sklearn.datasets import fetch_mldata\n",
    "mnist = fetch_mldata('MNIST original')"
   ]
  },
  {
   "cell_type": "code",
   "execution_count": null,
   "metadata": {
    "collapsed": true
   },
   "outputs": [],
   "source": [
    "data = mnist.data\n",
    "target = mnist.target"
   ]
  },
  {
   "cell_type": "code",
   "execution_count": null,
   "metadata": {},
   "outputs": [],
   "source": [
    "from sklearn.decomposition import PCA\n",
    "pca = PCA(n_components=0.8)\n",
    "data_trans = pca.fit_transform(data)\n",
    "X_train = data_trans[:60000]\n",
    "X_test = data_trans[60000:]\n",
    "y_train = target[:60000]\n",
    "y_test = target[60000:]"
   ]
  },
  {
   "cell_type": "code",
   "execution_count": null,
   "metadata": {},
   "outputs": [],
   "source": [
    "from sklearn.neighbors import KNeighborsClassifier\n",
    "from sklearn.model_selection import GridSearchCV\n",
    "params = [\n",
    "    {'n_neighbors':[3,5]}\n",
    "]\n",
    "knn_clf = KNeighborsClassifier()\n",
    "grid_serach = GridSearchCV(knn_clf, params, cv=3, verbose=2, n_jobs=-1)\n",
    "grid_serach.fit(X_train, y_train)"
   ]
  },
  {
   "cell_type": "code",
   "execution_count": null,
   "metadata": {},
   "outputs": [],
   "source": [
    "grid_serach.best_estimator_"
   ]
  },
  {
   "cell_type": "code",
   "execution_count": null,
   "metadata": {},
   "outputs": [],
   "source": [
    "y_pred = grid_serach.best_estimator_.predict(X_test)"
   ]
  },
  {
   "cell_type": "code",
   "execution_count": null,
   "metadata": {},
   "outputs": [],
   "source": [
    "from sklearn.metrics import accuracy_score\n",
    "accuracy_score(y_test, y_pred)"
   ]
  },
  {
   "cell_type": "code",
   "execution_count": null,
   "metadata": {},
   "outputs": [],
   "source": [
    "def precision_recall(y_test, y_pred, label):\n",
    "    from sklearn.metrics import precision_score, recall_score\n",
    "    y_test_label = (y_test == label)\n",
    "    y_pred_label = (y_pred == label)\n",
    "    return precision_score(y_test_label, y_pred_label), recall_score(y_test_label, y_pred_label)\n",
    "for i in range(10):\n",
    "    precison, recall = precision_recall(y_test, y_pred, i)\n",
    "    print(\"classificaiton:\", i, \"=>precision:\", precison, ';recall:', recall)"
   ]
  },
  {
   "cell_type": "markdown",
   "metadata": {},
   "source": [
    "# 2 "
   ]
  },
  {
   "cell_type": "code",
   "execution_count": null,
   "metadata": {
    "collapsed": true
   },
   "outputs": [],
   "source": [
    "from scipy.ndimage.interpolation import shift\n",
    "def custom_shift(x, direction):\n",
    "    img = x.reshape((28,28))\n",
    "    return shift(img, direction, cval=0).reshape(1,-1)"
   ]
  },
  {
   "cell_type": "code",
   "execution_count": null,
   "metadata": {},
   "outputs": [],
   "source": [
    "data = mnist.data\n",
    "target = mnist.target\n",
    "X_train = data[:60000]\n",
    "X_test = data[60000:]\n",
    "y_train = target[:60000]\n",
    "y_test = target[60000:]\n",
    "m, n = X_train.shape\n",
    "for i in range(m):\n",
    "    instance = X_train[i,:]\n",
    "    if i % 4 == 0:     \n",
    "        shift_instance = custom_shift(instance, [-1,0])\n",
    "    elif i %4 == 1:\n",
    "        shift_instance = custom_shift(instance, [1, 0])\n",
    "    elif i % 4 == 2:\n",
    "        shift_instance = custom_shift(instance, [0, -1])\n",
    "    else:\n",
    "        shift_instance = custom_shift(instance, [0, 1])\n",
    "    X_train = np.r_[X_train, shift_instance]\n",
    "    y_train = np.r_[y_train, y_train[i]]    "
   ]
  },
  {
   "cell_type": "code",
   "execution_count": null,
   "metadata": {
    "collapsed": true
   },
   "outputs": [],
   "source": []
  }
 ],
 "metadata": {
  "kernelspec": {
   "display_name": "Python 3",
   "language": "python",
   "name": "python3"
  },
  "language_info": {
   "codemirror_mode": {
    "name": "ipython",
    "version": 3
   },
   "file_extension": ".py",
   "mimetype": "text/x-python",
   "name": "python",
   "nbconvert_exporter": "python",
   "pygments_lexer": "ipython3",
   "version": "3.6.3"
  }
 },
 "nbformat": 4,
 "nbformat_minor": 2
}
