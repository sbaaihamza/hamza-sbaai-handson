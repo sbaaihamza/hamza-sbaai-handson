{
 "cells": [
  {
   "cell_type": "markdown",
   "metadata": {},
   "source": [
    "# Chaptre 1: ML landscape\n",
    "\n",
    "## Exercises\n"
   ]
  },
  {
   "cell_type": "markdown",
   "metadata": {},
   "source": [
    "**Question 1**: How would you define Machine learning?\n",
    "\n",
    "**Answer**: Machine Learning is about building systems that can learn from data. Learning means getting better at some task, given some performance measure."
   ]
  },
  {
   "cell_type": "markdown",
   "metadata": {},
   "source": [
    "**Question 2**: Can you name four types of problems it shines?\n",
    "\n",
    "**Answer**: Machine Learning is great for complex problems for which we have no algorithmic solution, to replace long lists of hand-tuned rules, to build systems that adapt\n",
    "to fluctuating environments, and finally to help humans learn (e.g., data mining)."
   ]
  },
  {
   "cell_type": "markdown",
   "metadata": {},
   "source": [
    "**Question 3**: what is a labeled training set?\n",
    "\n",
    "**Answer**: A labeled training set is a training set that contains the desired solution (a.k.a. a label) for each instance."
   ]
  },
  {
   "cell_type": "markdown",
   "metadata": {},
   "source": [
    "**Question 4**: what are the two most common supervised tasks?\n",
    "\n",
    "**Answer**: The two most common supervised tasks are regression and classification. "
   ]
  },
  {
   "cell_type": "markdown",
   "metadata": {},
   "source": [
    "**Question 5**: can you name four common unsupervised tasks?\n",
    "\n",
    "**Answer**: Common unsupervised tasks include clustering, visualization, dimensionality reduction, and association rule learning."
   ]
  },
  {
   "cell_type": "markdown",
   "metadata": {},
   "source": [
    "**Question 6**: what type of ML would you use to allow a robot to walk in various unknown terrains?\n",
    "\n",
    "**Answer**:Reinforcement Learning is likely to perform best if we want a robot to learn to walk in various unknown terrains since this is typically the type of problem that\n",
    "Reinforcement Learning tackles. It might be possible to express the problem as a supervised or semisupervised learning problem, but it would be less natural."
   ]
  },
  {
   "cell_type": "markdown",
   "metadata": {},
   "source": [
    "**Question 7**: what type of algorithms would you use to segment your customers into multiple groups ?\n",
    "\n",
    "**Answer**: If you don’t know how to define the groups, then you can use a clustering algorithm (unsupervised learning) to segment your customers into clusters of similar customers. However, if you know what groups you would like to have, then you can feed many examples of each group to a classification algorithm (supervised learning), and it will classify all your customers into these groups."
   ]
  },
  {
   "cell_type": "markdown",
   "metadata": {},
   "source": [
    "**Question 8**: would you frame the problem of spam detection as a supervised learning prob or USprob?\n",
    "\n",
    "**Answer**: Spam detection is a typical supervised learning problem: the algorithm is fed many emails along with their label (spam or not spam)."
   ]
  },
  {
   "cell_type": "markdown",
   "metadata": {},
   "source": [
    "**Question 9**: what is an online learning system?\n",
    "\n",
    "**Answer**: An online learning system can learn incrementally, as opposed to a batch learning system. This makes it capable of adapting rapidly to both changing data and autonomous systems, and of training on very large quantities of data."
   ]
  },
  {
   "cell_type": "markdown",
   "metadata": {},
   "source": [
    "**Question 10**: what is out of core learning?\n",
    "\n",
    "**Answer**: Out-of-core algorithms can handle vast quantities of data that cannot fit in a computer’s main memory. An out-of-core learning algorithm chops the data into mini-batches and uses online learning techniques to learn from these minibatches"
   ]
  },
  {
   "cell_type": "markdown",
   "metadata": {},
   "source": [
    "**Question 11**: what type of learning algo relies on a similarity measure to make predictions?\n",
    "\n",
    "**Answer**: An instance-based learning system learns the training data by heart; then, when given a new instance, it uses a similarity measure to find the most similar learned\n",
    "instances and uses them to make predictions."
   ]
  },
  {
   "cell_type": "markdown",
   "metadata": {},
   "source": [
    "**Question 12**: what is the difference between a model parameter and a learning algo hypermarameter?\n",
    "\n",
    "**Answer**: A model has one or more **model parameters** that determine what it will predict given a new instance (e.g., the slope of a linear model). A learning algorithm tries\n",
    "to find optimal values for these parameters such that the model generalizes well to new instances. A hyperparameter is a parameter of the **learning algorithm itself**, not of the model (e.g., the amount of regularization to apply)."
   ]
  },
  {
   "cell_type": "markdown",
   "metadata": {},
   "source": [
    "**Question 13**: what do model-based learning algo search for? what is the most common strategy they use to succeed?how do they make predections?\n",
    "\n",
    "**Answer**: Model-based learning algorithms search for an **optimal value for the model parameters** such that the model will generalize well to new instances. We usually train such systems by **minimizing a cost function** that measures how bad the system is at making predictions on the training data,** plus a penalty for model complexity if the model is regularized**. To make predictions, we feed the new instance’s features into the model’s prediction function, using the parameter values found by the learning algorithm."
   ]
  },
  {
   "cell_type": "markdown",
   "metadata": {},
   "source": [
    "**Question 14**: can you name four of the main challenges in machine learning?\n",
    "\n",
    "**Answer**: Some of the main challenges in Machine Learning are the lack of data, poor data quality, nonrepresentative data, uninformative features, excessively simple models that underfit the training data, and excessively complex models that overfit the data."
   ]
  },
  {
   "cell_type": "markdown",
   "metadata": {},
   "source": [
    "**Question 15**: if your model performs great on the training data but generalizes poorly on the new instances, what is happening? Can you name three possible solutions?\n",
    "\n",
    "**Answer**: If a model performs great on the training data but generalizes poorly to new instances, the model is likely overfitting the training data (or we got extremely lucky on the training data). Possible solutions to overfitting are getting more data, simplifying the model (selecting a simpler algorithm, reducing the number of parameters or features used, or regularizing the model), or reducing the noise in the training data."
   ]
  },
  {
   "cell_type": "markdown",
   "metadata": {},
   "source": [
    "**Question 16**: what is a test set and why would you want to use it?\n",
    "\n",
    "**Answer**: A test set is used to estimate the generalization error that a model will make on new instances, before the model is launched in production."
   ]
  }
 ],
 "metadata": {
  "kernelspec": {
   "display_name": "Python 3",
   "language": "python",
   "name": "python3"
  },
  "language_info": {
   "codemirror_mode": {
    "name": "ipython",
    "version": 3
   },
   "file_extension": ".py",
   "mimetype": "text/x-python",
   "name": "python",
   "nbconvert_exporter": "python",
   "pygments_lexer": "ipython3",
   "version": "3.6.3"
  }
 },
 "nbformat": 4,
 "nbformat_minor": 2
}
